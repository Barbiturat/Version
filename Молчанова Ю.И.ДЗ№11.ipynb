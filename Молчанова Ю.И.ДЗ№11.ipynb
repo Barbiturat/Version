{
 "cells": [
  {
   "cell_type": "code",
   "execution_count": null,
   "id": "115c776f-bba7-42d8-b25b-b9c6752f1de5",
   "metadata": {},
   "outputs": [],
   "source": [
    "'''Реализовать прототип консольной программы-проводника, для оработы с файлами. Создавать функции создания,\n",
    "удаления, перемещения, копирования (файла,папки) с использованием сисетмы контроля версий git.\n",
    "Зарегистрироваться на Github и выгрузить с помощью git программму в созданный репозиторий.\n",
    "Прикрепить ссылку на репозиторий.'''"
   ]
  },
  {
   "cell_type": "code",
   "execution_count": 3,
   "id": "b7bc589b-5d0e-4a09-83b4-f317ae0f53ae",
   "metadata": {
    "tags": []
   },
   "outputs": [],
   "source": [
    "import os\n",
    "import shutil\n",
    "import subprocess"
   ]
  },
  {
   "cell_type": "code",
   "execution_count": null,
   "id": "784a512f-cb07-4d13-bb19-9ec5dbb23398",
   "metadata": {
    "tags": []
   },
   "outputs": [
    {
     "name": "stdout",
     "output_type": "stream",
     "text": [
      "Добро пожаловать в программу!\n",
      "1. Создать файл\n",
      "2. Создать папку\n",
      "3. Удалить файл/папку\n",
      "4. Переместить файл/папку\n",
      "5. Скопировать файл/папку\n",
      "6. Сделать коммит в Git\n",
      "7. Отправить изменения в Git\n",
      "0. Выйти\n"
     ]
    },
    {
     "name": "stdin",
     "output_type": "stream",
     "text": [
      "Выберите действие:  6\n",
      "Введите сообщение для коммита:  Test\n"
     ]
    },
    {
     "name": "stdout",
     "output_type": "stream",
     "text": [
      "Ошибка при добавлении коммита\n",
      "Добро пожаловать в программу!\n",
      "1. Создать файл\n",
      "2. Создать папку\n",
      "3. Удалить файл/папку\n",
      "4. Переместить файл/папку\n",
      "5. Скопировать файл/папку\n",
      "6. Сделать коммит в Git\n",
      "7. Отправить изменения в Git\n",
      "0. Выйти\n"
     ]
    }
   ],
   "source": [
    "def create_file():\n",
    "    filename = input(\"Введите имя файла: \")\n",
    "    with open(filename, 'w') as f:\n",
    "        pass\n",
    "    print(\"Файл успешно создан\")\n",
    "    \n",
    "def create_folder():\n",
    "    foldername = input(\"Введите имя папки: \")\n",
    "    os.mkdir(foldername)\n",
    "    print(\"Папка успешно создана\")\n",
    "     \n",
    "def delete_file_or_folder():\n",
    "    filename = input(\"Введите имя файла или папки, для удаления: \")\n",
    "    if os.path.isfile(filename):\n",
    "        os.remove(filename)\n",
    "        print(f\"Файл {filename} успешно удален\")\n",
    "    elif os.path.isdir(filename):\n",
    "        shutil.rmtree(filename)\n",
    "        print(f\"Папка {filename} успешно удалена\")\n",
    "    else:\n",
    "        print(\"Файл или папка не существует\")    \n",
    "\n",
    "def move_file_or_folder():\n",
    "    src = input(\"Введите имя файла или папки для перемещения: \")\n",
    "    dst = input(\"Введите новую директорию для перемещения: \")\n",
    "    if os.path.exists(dst):\n",
    "        shutil.move(src, dst)\n",
    "        print(f\"Файл/папка {src} успешно перемещена в {dst}\")\n",
    "    else:\n",
    "        print(f\"Файл/папка {src} или путь {dst} не существуют.\")\n",
    "        \n",
    "def copy_file():\n",
    "    src = input(\"Введите имя копируемого файла: \")\n",
    "    dst = input(\"Введите имя папки, в которую нужно скопировать файл: \")\n",
    "    if os.path.exists(src) and os.path.isdir(dst):\n",
    "        shutil.copy2(src, dst)\n",
    "        print(f\"Файл {src} успешно скопирован в папку {dst}.\")\n",
    "    else:\n",
    "        print(f\"Файл {src} или папка {dst} не существуют.\")\n",
    "        \n",
    "def copy_file_or_folder():\n",
    "    src = input(\"Введите имя файла/папки для копирования: \")\n",
    "    dst = input(\"Введите имя папки, в которую нужно скопировать файл/папку: \")\n",
    "    if os.path.exists(dst):\n",
    "        shutil.copy2(src, dst)\n",
    "        print(f\"Файл/папка {src} успешно скопированы в {dst}\")\n",
    "    else:\n",
    "        print(f\"Файл/папка {src} или путь {dst} не существуют.\")\n",
    "        \n",
    "def git_commit():\n",
    "    commit_message = input(\"Введите сообщение для коммита: \")\n",
    "    commit_process = subprocess.run(['git', 'commit', '-am', commit_message])\n",
    "    if commit_process.returncode == 0:\n",
    "        print(\"Коммит успешно добавлен!\")\n",
    "    else:\n",
    "        print(\"Ошибка при добавлении коммита\")\n",
    "\n",
    "def git_push():\n",
    "    push_process = subprocess.run(['git', 'push'])\n",
    "\n",
    "    if push_process.returncode == 0:\n",
    "        print(\"Изменения успешно отправлены!\")\n",
    "    else:\n",
    "        print(\"Ошибка при отправке изменений\")\n",
    "    \n",
    "\n",
    "while True:\n",
    "    print(\"Добро пожаловать в программу!\")\n",
    "    print(\"1. Создать файл\")\n",
    "    print(\"2. Создать папку\")\n",
    "    print(\"3. Удалить файл/папку\")\n",
    "    print(\"4. Переместить файл/папку\")\n",
    "    print(\"5. Скопировать файл/папку\")\n",
    "    print(\"6. Сделать коммит в Git\")\n",
    "    print(\"7. Отправить изменения в Git\")\n",
    "    print(\"0. Выйти\")\n",
    "\n",
    "    choice = input(\"Выберите действие: \")\n",
    "\n",
    "    if choice == '1':\n",
    "        create_file()\n",
    "    elif choice == '2':\n",
    "        create_folder()\n",
    "    elif choice == '3':\n",
    "        delete_file_or_folder()\n",
    "    elif choice == '4':\n",
    "        move_file_or_folder()\n",
    "    elif choice == '5':\n",
    "        copy_file_or_folder()\n",
    "    elif choice == '6':\n",
    "        git_commit()\n",
    "    elif choice == '7':\n",
    "        git_push()        \n",
    "    elif choice == '0':\n",
    "        break\n"
   ]
  },
  {
   "cell_type": "code",
   "execution_count": null,
   "id": "727c89a1-6d6e-4d6e-a06c-92a7efa902b3",
   "metadata": {},
   "outputs": [],
   "source": []
  }
 ],
 "metadata": {
  "kernelspec": {
   "display_name": "Python 3 (ipykernel)",
   "language": "python",
   "name": "python3"
  },
  "language_info": {
   "codemirror_mode": {
    "name": "ipython",
    "version": 3
   },
   "file_extension": ".py",
   "mimetype": "text/x-python",
   "name": "python",
   "nbconvert_exporter": "python",
   "pygments_lexer": "ipython3",
   "version": "3.11.5"
  },
  "toc-autonumbering": true,
  "toc-showcode": true
 },
 "nbformat": 4,
 "nbformat_minor": 5
}
